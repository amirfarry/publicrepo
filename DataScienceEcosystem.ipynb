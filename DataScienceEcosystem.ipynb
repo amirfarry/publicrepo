{
 "cells": [
  {
   "cell_type": "markdown",
   "id": "1790c82a-f7c6-4b6e-a7e4-fd48fcc4e3b5",
   "metadata": {},
   "source": [
    "# Data Science Tools and Ecosystem"
   ]
  },
  {
   "cell_type": "markdown",
   "id": "c6d8381d-307a-4ae0-b0ee-8062edd4432f",
   "metadata": {},
   "source": [
    "In this notebook, Data Science Tools and Ecosystem are summarized."
   ]
  },
  {
   "cell_type": "markdown",
   "id": "2e368c1c-ec6f-4b13-8c4f-a13f0e58a125",
   "metadata": {},
   "source": [
    "**Objectives:**\n",
    "- list popular languages for Data Science\n",
    "- list commonly used libraries for Data Science\n",
    "- list development environment open source tools used in Data Science"
   ]
  },
  {
   "cell_type": "code",
   "execution_count": null,
   "id": "8fc352e4-96ce-4df4-bd37-8916dee7fbe2",
   "metadata": {},
   "outputs": [],
   "source": [
    "Some of the popular languages that Data Scientists use are:\n",
    "1. Python\n",
    "2. R\n",
    "3. SQL"
   ]
  },
  {
   "cell_type": "markdown",
   "id": "0bb37245-4dae-4382-a53a-73350f060435",
   "metadata": {},
   "source": [
    "Some of the commonly used libraries used by Data Scientists include:\n",
    "1. NumPy\n",
    "2. Pandas\n",
    "3. Matplotlib\n"
   ]
  },
  {
   "cell_type": "markdown",
   "id": "75f3d9f1-f24e-4e77-b169-d3853fe00d1d",
   "metadata": {
    "tags": []
   },
   "source": [
    "| Data Science Tools |\n",
    "| --- |\n",
    "| Jupyter Notebook |\n",
    "| RStudio |\n",
    "| VS Code |"
   ]
  },
  {
   "cell_type": "markdown",
   "id": "d3762476-02cc-4fa8-8a35-2d16b4a8b848",
   "metadata": {},
   "source": [
    "### Below are a few examples of evaluating arithmetic expressions in Python"
   ]
  },
  {
   "cell_type": "code",
   "execution_count": 3,
   "id": "55d9db72-42b8-4913-8db3-3fe6a02e168c",
   "metadata": {
    "tags": []
   },
   "outputs": [
    {
     "data": {
      "text/plain": [
       "17"
      ]
     },
     "execution_count": 3,
     "metadata": {},
     "output_type": "execute_result"
    }
   ],
   "source": [
    "# This a simple arithmetic expression to mutiply then add integers\n",
    "(3*4)+5"
   ]
  },
  {
   "cell_type": "code",
   "execution_count": 12,
   "id": "d766e088-0d90-4801-b180-f5166c6ad68b",
   "metadata": {
    "tags": []
   },
   "outputs": [
    {
     "name": "stdout",
     "output_type": "stream",
     "text": [
      "3.3333333333333335\n"
     ]
    }
   ],
   "source": [
    "# This will convert 200 minutes to hours by diving by 60\n",
    "hours = 200 / 60\n",
    "print(hours)"
   ]
  },
  {
   "cell_type": "markdown",
   "id": "20de541e-a768-4766-9da8-520f1bc22794",
   "metadata": {},
   "source": [
    "## Author\n",
    "Amir Farry"
   ]
  },
  {
   "cell_type": "code",
   "execution_count": null,
   "id": "a24457d8-3401-4c07-8772-61a40f618f5f",
   "metadata": {},
   "outputs": [],
   "source": []
  }
 ],
 "metadata": {
  "kernelspec": {
   "display_name": "Python",
   "language": "python",
   "name": "conda-env-python-py"
  },
  "language_info": {
   "codemirror_mode": {
    "name": "ipython",
    "version": 3
   },
   "file_extension": ".py",
   "mimetype": "text/x-python",
   "name": "python",
   "nbconvert_exporter": "python",
   "pygments_lexer": "ipython3",
   "version": "3.7.12"
  }
 },
 "nbformat": 4,
 "nbformat_minor": 5
}
